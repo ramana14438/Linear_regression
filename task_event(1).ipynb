{
 "cells": [
  {
   "cell_type": "code",
   "execution_count": 1,
   "id": "ed935727",
   "metadata": {},
   "outputs": [],
   "source": [
    "import numpy as np\n",
    "import matplotlib.pyplot as plt\n",
    "from sklearn.model_selection import train_test_split\n",
    "from sklearn.linear_model import LinearRegression\n",
    "from sklearn.metrics import mean_squared_error, r2_score"
   ]
  },
  {
   "cell_type": "code",
   "execution_count": 2,
   "id": "690cf311",
   "metadata": {},
   "outputs": [],
   "source": [
    "X = 2 * np.random.rand(100, 1)\n",
    "y = 4 + 3 * X + np.random.randn(100, 1)"
   ]
  },
  {
   "cell_type": "code",
   "execution_count": 4,
   "id": "d0f5d971",
   "metadata": {},
   "outputs": [],
   "source": [
    "X_train, X_test, y_train, y_test = train_test_split(X, y, test_size=0.2, random_state=42)"
   ]
  },
  {
   "cell_type": "code",
   "execution_count": 5,
   "id": "2299a870",
   "metadata": {},
   "outputs": [],
   "source": [
    "model = LinearRegression()"
   ]
  },
  {
   "cell_type": "code",
   "execution_count": 6,
   "id": "b2445f7a",
   "metadata": {},
   "outputs": [
    {
     "data": {
      "text/html": [
       "<style>#sk-container-id-1 {color: black;}#sk-container-id-1 pre{padding: 0;}#sk-container-id-1 div.sk-toggleable {background-color: white;}#sk-container-id-1 label.sk-toggleable__label {cursor: pointer;display: block;width: 100%;margin-bottom: 0;padding: 0.3em;box-sizing: border-box;text-align: center;}#sk-container-id-1 label.sk-toggleable__label-arrow:before {content: \"▸\";float: left;margin-right: 0.25em;color: #696969;}#sk-container-id-1 label.sk-toggleable__label-arrow:hover:before {color: black;}#sk-container-id-1 div.sk-estimator:hover label.sk-toggleable__label-arrow:before {color: black;}#sk-container-id-1 div.sk-toggleable__content {max-height: 0;max-width: 0;overflow: hidden;text-align: left;background-color: #f0f8ff;}#sk-container-id-1 div.sk-toggleable__content pre {margin: 0.2em;color: black;border-radius: 0.25em;background-color: #f0f8ff;}#sk-container-id-1 input.sk-toggleable__control:checked~div.sk-toggleable__content {max-height: 200px;max-width: 100%;overflow: auto;}#sk-container-id-1 input.sk-toggleable__control:checked~label.sk-toggleable__label-arrow:before {content: \"▾\";}#sk-container-id-1 div.sk-estimator input.sk-toggleable__control:checked~label.sk-toggleable__label {background-color: #d4ebff;}#sk-container-id-1 div.sk-label input.sk-toggleable__control:checked~label.sk-toggleable__label {background-color: #d4ebff;}#sk-container-id-1 input.sk-hidden--visually {border: 0;clip: rect(1px 1px 1px 1px);clip: rect(1px, 1px, 1px, 1px);height: 1px;margin: -1px;overflow: hidden;padding: 0;position: absolute;width: 1px;}#sk-container-id-1 div.sk-estimator {font-family: monospace;background-color: #f0f8ff;border: 1px dotted black;border-radius: 0.25em;box-sizing: border-box;margin-bottom: 0.5em;}#sk-container-id-1 div.sk-estimator:hover {background-color: #d4ebff;}#sk-container-id-1 div.sk-parallel-item::after {content: \"\";width: 100%;border-bottom: 1px solid gray;flex-grow: 1;}#sk-container-id-1 div.sk-label:hover label.sk-toggleable__label {background-color: #d4ebff;}#sk-container-id-1 div.sk-serial::before {content: \"\";position: absolute;border-left: 1px solid gray;box-sizing: border-box;top: 0;bottom: 0;left: 50%;z-index: 0;}#sk-container-id-1 div.sk-serial {display: flex;flex-direction: column;align-items: center;background-color: white;padding-right: 0.2em;padding-left: 0.2em;position: relative;}#sk-container-id-1 div.sk-item {position: relative;z-index: 1;}#sk-container-id-1 div.sk-parallel {display: flex;align-items: stretch;justify-content: center;background-color: white;position: relative;}#sk-container-id-1 div.sk-item::before, #sk-container-id-1 div.sk-parallel-item::before {content: \"\";position: absolute;border-left: 1px solid gray;box-sizing: border-box;top: 0;bottom: 0;left: 50%;z-index: -1;}#sk-container-id-1 div.sk-parallel-item {display: flex;flex-direction: column;z-index: 1;position: relative;background-color: white;}#sk-container-id-1 div.sk-parallel-item:first-child::after {align-self: flex-end;width: 50%;}#sk-container-id-1 div.sk-parallel-item:last-child::after {align-self: flex-start;width: 50%;}#sk-container-id-1 div.sk-parallel-item:only-child::after {width: 0;}#sk-container-id-1 div.sk-dashed-wrapped {border: 1px dashed gray;margin: 0 0.4em 0.5em 0.4em;box-sizing: border-box;padding-bottom: 0.4em;background-color: white;}#sk-container-id-1 div.sk-label label {font-family: monospace;font-weight: bold;display: inline-block;line-height: 1.2em;}#sk-container-id-1 div.sk-label-container {text-align: center;}#sk-container-id-1 div.sk-container {/* jupyter's `normalize.less` sets `[hidden] { display: none; }` but bootstrap.min.css set `[hidden] { display: none !important; }` so we also need the `!important` here to be able to override the default hidden behavior on the sphinx rendered scikit-learn.org. See: https://github.com/scikit-learn/scikit-learn/issues/21755 */display: inline-block !important;position: relative;}#sk-container-id-1 div.sk-text-repr-fallback {display: none;}</style><div id=\"sk-container-id-1\" class=\"sk-top-container\"><div class=\"sk-text-repr-fallback\"><pre>LinearRegression()</pre><b>In a Jupyter environment, please rerun this cell to show the HTML representation or trust the notebook. <br />On GitHub, the HTML representation is unable to render, please try loading this page with nbviewer.org.</b></div><div class=\"sk-container\" hidden><div class=\"sk-item\"><div class=\"sk-estimator sk-toggleable\"><input class=\"sk-toggleable__control sk-hidden--visually\" id=\"sk-estimator-id-1\" type=\"checkbox\" checked><label for=\"sk-estimator-id-1\" class=\"sk-toggleable__label sk-toggleable__label-arrow\">LinearRegression</label><div class=\"sk-toggleable__content\"><pre>LinearRegression()</pre></div></div></div></div></div>"
      ],
      "text/plain": [
       "LinearRegression()"
      ]
     },
     "execution_count": 6,
     "metadata": {},
     "output_type": "execute_result"
    }
   ],
   "source": [
    "model.fit(X_train, y_train)"
   ]
  },
  {
   "cell_type": "code",
   "execution_count": 7,
   "id": "06a68f6f",
   "metadata": {},
   "outputs": [],
   "source": [
    "y_pred = model.predict(X_test)"
   ]
  },
  {
   "cell_type": "code",
   "execution_count": 8,
   "id": "d6fc3c5f",
   "metadata": {},
   "outputs": [],
   "source": [
    "mse = mean_squared_error(y_test, y_pred)\n",
    "r2 = r2_score(y_test, y_pred)"
   ]
  },
  {
   "cell_type": "code",
   "execution_count": 9,
   "id": "0a1e9e64",
   "metadata": {},
   "outputs": [
    {
     "name": "stdout",
     "output_type": "stream",
     "text": [
      "Mean Squared Error: 0.6851198417628984\n",
      "R^2 Score: 0.825741614614874\n"
     ]
    }
   ],
   "source": [
    "print(f\"Mean Squared Error: {mse}\")\n",
    "print(f\"R^2 Score: {r2}\")"
   ]
  },
  {
   "cell_type": "code",
   "execution_count": 12,
   "id": "19d7fe61",
   "metadata": {},
   "outputs": [
    {
     "data": {
      "text/plain": [
       "Text(0.5, 1.0, 'Linear Regression')"
      ]
     },
     "execution_count": 12,
     "metadata": {},
     "output_type": "execute_result"
    },
    {
     "data": {
      "image/png": "[encoded data removed]",
      "text/plain": [
       "<Figure size 640x480 with 1 Axes>"
      ]
     },
     "metadata": {},
     "output_type": "display_data"
    }
   ],
   "source": [
    "plt.scatter(X, y, color='blue')\n",
    "plt.plot(X_test, y_pred, color='red', linewidth=2)\n",
    "plt.xlabel('X')\n",
    "plt.ylabel('y')\n",
    "plt.title(\"Linear Regression\")"
   ]
  },
  {
   "cell_type": "markdown",
   "id": "711c1769",
   "metadata": {},
   "source": [
    "# Anagram"
   ]
  },
  {
   "cell_type": "markdown",
   "id": "5a78d2a2",
   "metadata": {},
   "source": [
    "Anagrams are words or phrases formed by rearranging the letters of another word or phrase"
   ]
  },
  {
   "cell_type": "markdown",
   "id": "1629521d",
   "metadata": {},
   "source": [
    "Algorithm:\n",
    "\n",
    "1-Start\n",
    "\n",
    "2-Define the function anagram(x, y):\n",
    "\n",
    "    -->Input: Two strings, x and y\n",
    "    -->Process:\n",
    "    --Sort both strings\n",
    "    -->Compare the sorted versions of the strings\n",
    "    -->If they are equal, return True\n",
    "    -->If they are not equal, return False\n",
    " \n",
    "3-Returns True if the strings are anagrams, False otherwise"
   ]
  },
  {
   "cell_type": "code",
   "execution_count": 14,
   "id": "3ccdc2aa",
   "metadata": {},
   "outputs": [
    {
     "name": "stdout",
     "output_type": "stream",
     "text": [
      "anu\n",
      "una\n",
      "Anagrams\n"
     ]
    }
   ],
   "source": [
    "def anagram(x,y):\n",
    "    if sorted(x)==sorted(y):\n",
    "        return True\n",
    "    return False\n",
    "if anagram(input(),input()):\n",
    "    print('Anagrams')\n",
    "else:\n",
    "    print(\"Not Anagrams\")"
   ]
  },
  {
   "cell_type": "markdown",
   "id": "3d2913d8",
   "metadata": {},
   "source": [
    "# Fibonaci Series"
   ]
  },
  {
   "cell_type": "markdown",
   "id": "1ecbb886",
   "metadata": {},
   "source": [
    "The Fibonacci sequence is a sequence in which each number is the sum of the two preceding ones. It can be generated in many ways. Some of them are:\n",
    "\n",
    "1.Using loops\n",
    "2.Using recursion"
   ]
  },
  {
   "cell_type": "markdown",
   "id": "f8403eb0",
   "metadata": {},
   "source": [
    "# Using Loops"
   ]
  },
  {
   "cell_type": "markdown",
   "id": "9b3a03f8",
   "metadata": {},
   "source": [
    "Here we will use while loop \n",
    "Alogorithm:\n",
    "\n",
    "\n",
    "\n",
    "\n",
    "1.Initialize the first two numbers in the series\n",
    "\n",
    "\n",
    "2.Handle Base Cases\n",
    "\n",
    "3.Generate Fibonaci series using while loop: \n",
    "\n",
    "\n",
    "    -->Intialize the pointer i to 3 as we already intialised 1st and 2nd term\n",
    "    \n",
    "    -->Use a while loop to generate the sequence:\n",
    "   \n",
    "         Continue the loop while i is less than or equal to n.\n",
    "         \n",
    "         Compute the next number in the series as x = a + b.\n",
    "      \n",
    "         Update a to b and b to x.\n",
    "      \n",
    "         Increment the counter i.\n",
    "     \n",
    "     -->Print b"
   ]
  },
  {
   "cell_type": "code",
   "execution_count": 29,
   "id": "2f561b52",
   "metadata": {},
   "outputs": [
    {
     "name": "stdout",
     "output_type": "stream",
     "text": [
      "Enter the first number: 1\n",
      "Enter the second number: 1\n",
      "Enter the number n: 2\n",
      "1\n"
     ]
    }
   ],
   "source": [
    "a=int(input(\"Enter the first number: \"))\n",
    "b=int(input(\"Enter the second number: \"))\n",
    "n=int(input(\"Enter the number n: \"))\n",
    "if n==1:\n",
    "    print(a)\n",
    "elif n==2:\n",
    "    print(b)\n",
    "else:\n",
    "    i=3\n",
    "    while(i<=n):\n",
    "        x=a+b\n",
    "        a,b=b,x\n",
    "        i+=1\n",
    "    print(b)"
   ]
  },
  {
   "cell_type": "markdown",
   "id": "6af50eb5",
   "metadata": {},
   "source": [
    "# Using recursion"
   ]
  },
  {
   "cell_type": "markdown",
   "id": "539f5254",
   "metadata": {},
   "source": [
    "Algorithm:\n",
    "\n",
    "1--Start\n",
    "\n",
    "2--Define the function fibnoci(n):\n",
    "\n",
    "      Input: An integer n representing the position in the Fibonacci sequence\n",
    "      Process:\n",
    "      \n",
    "         If n is 1, return 0 (the first Fibonacci number)\n",
    "         \n",
    "         If n is 2, return 1 (the second Fibonacci number)\n",
    "         \n",
    "         For n greater than 2, recursively call fibnoci(n-1) and fibnoci(n-2) and return their sum\n",
    "         \n",
    "4-Return: The nth Fibonacci number"
   ]
  },
  {
   "cell_type": "code",
   "execution_count": 19,
   "id": "8faad4f8",
   "metadata": {},
   "outputs": [
    {
     "name": "stdout",
     "output_type": "stream",
     "text": [
      "3\n"
     ]
    }
   ],
   "source": [
    "def fibnoci(n):\n",
    "    if n==1:\n",
    "        return 0\n",
    "    elif n==2:\n",
    "        return 1\n",
    "    else:\n",
    "        return fibnoci(n-1)+fibnoci(n-2)\n",
    "print(fibnoci(5))"
   ]
  },
  {
   "cell_type": "markdown",
   "id": "a540c044",
   "metadata": {},
   "source": [
    "# Factorial"
   ]
  },
  {
   "cell_type": "markdown",
   "id": "2cdab1d1",
   "metadata": {},
   "source": [
    "Factorial of n is product of n integers staring from 1.Denoted by '!'\n",
    "\n",
    "0!=0\n",
    "\n",
    "1!=1\n",
    "\n",
    "n!=1x2x3x4x5........xn-1xn"
   ]
  },
  {
   "cell_type": "markdown",
   "id": "3857b8c7",
   "metadata": {},
   "source": [
    "Algorithm\n",
    "\n",
    "1-Start\n",
    "\n",
    "2-Handle base test cases:\n",
    "\n",
    "    If n == 0, print 1\n",
    "\n",
    "    If n == 1, print 1\n",
    "\n",
    "3--If n is greater than 1, proceed to generate the factorial using a while loop:\n",
    "\n",
    "    Initialize pro (product) as 1\n",
    "    Initialize counter i as 2\n",
    "    While i <= n, do the following:\n",
    "        Multiply pro by i to update the product\n",
    "        Increment i by 1\n",
    "4-Print the final value of pro\n",
    "\n",
    "5-End"
   ]
  },
  {
   "cell_type": "code",
   "execution_count": 3,
   "id": "5233d4b7",
   "metadata": {},
   "outputs": [
    {
     "name": "stdout",
     "output_type": "stream",
     "text": [
      "enter the number5\n",
      "120\n"
     ]
    }
   ],
   "source": [
    "n=int(input(\"enter the number: \"))\n",
    "if n==0:\n",
    "    print(1)\n",
    "elif n==1:\n",
    "    print(2)\n",
    "else:\n",
    "    pro=1\n",
    "    i=2\n",
    "    while(i<=n):\n",
    "        pro=pro*i\n",
    "        i=i+1\n",
    "    print(pro)"
   ]
  },
  {
   "cell_type": "markdown",
   "id": "3b7a4718",
   "metadata": {},
   "source": [
    "# Using recursion"
   ]
  },
  {
   "cell_type": "markdown",
   "id": "e318bc1f",
   "metadata": {},
   "source": [
    "1-Start\n",
    "\n",
    "2-Define the function fact_recu(n):\n",
    "   \n",
    "   -->The function takes an integer input 'n'. \n",
    "   \n",
    "   -->If 'n' is 0, the function returns 1, which is the factorial of 0.\n",
    "   \n",
    "   -->If 'n' is 1, the function returns 1, which is the factorial of 1.\n",
    "   \n",
    "   -->For 'n' greater than 1, the function returns 'n' multiplied by the factorial of 'n-1'. This is achieved by calling                fact_recu(n-1) recursively."
   ]
  },
  {
   "cell_type": "code",
   "execution_count": 1,
   "id": "59141e28",
   "metadata": {},
   "outputs": [
    {
     "name": "stdout",
     "output_type": "stream",
     "text": [
      "Enter the number:5\n",
      "120\n"
     ]
    }
   ],
   "source": [
    "def fact_recu(n):\n",
    "    if n==0:\n",
    "        return(1)\n",
    "    elif n==1:\n",
    "        return 1\n",
    "    else:\n",
    "        return n*fact_recu(n-1)\n",
    "n=int(input(\"Enter the number:\"))\n",
    "print(fact_recu(n))"
   ]
  },
  {
   "cell_type": "markdown",
   "id": "d25eb82c",
   "metadata": {},
   "source": [
    "# Task"
   ]
  },
  {
   "cell_type": "markdown",
   "id": "b6475dff",
   "metadata": {},
   "source": [
    "fib_1=1,2,.....\n",
    "\n",
    "fib_2=2,3......\n",
    "\n",
    "Find the:\n",
    "\n",
    "fib_1(330)-fib_2(320)"
   ]
  },
  {
   "cell_type": "code",
   "execution_count": 2,
   "id": "063b9a14",
   "metadata": {},
   "outputs": [
    {
     "data": {
      "text/plain": [
       "'C:\\\\Users\\\\anush'"
      ]
     },
     "execution_count": 2,
     "metadata": {},
     "output_type": "execute_result"
    }
   ],
   "source": [
    "pwd"
   ]
  },
  {
   "cell_type": "code",
   "execution_count": null,
   "id": "2cafce0e",
   "metadata": {},
   "outputs": [],
   "source": []
  }
 ],
 "metadata": {
  "kernelspec": {
   "display_name": "Python 3 (ipykernel)",
   "language": "python",
   "name": "python3"
  },
  "language_info": {
   "codemirror_mode": {
    "name": "ipython",
    "version": 3
   },
   "file_extension": ".py",
   "mimetype": "text/x-python",
   "name": "python",
   "nbconvert_exporter": "python",
   "pygments_lexer": "ipython3",
   "version": "3.9.12"
  }
 },
 "nbformat": 4,
 "nbformat_minor": 5
}
